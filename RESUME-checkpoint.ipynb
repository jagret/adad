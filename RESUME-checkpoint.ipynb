{
 "cells": [
  {
   "cell_type": "markdown",
   "metadata": {},
   "source": [
    "## Printing on screen"
   ]
  },
  {
   "cell_type": "markdown",
   "metadata": {},
   "source": [
    "## Question 1 Print your details on the screen"
   ]
  },
  {
   "cell_type": "code",
   "execution_count": null,
   "metadata": {},
   "outputs": [],
   "source": []
  },
  {
   "cell_type": "markdown",
   "metadata": {
    "colab_type": "text",
    "id": "abOFtJrGmh-t"
   },
   "source": [
    "Formatters work by putting in one or more replacement fields and placeholders defined by a pair of curly braces { } into a string and calling the str.format(). The value we wish to put into the placeholders and concatenate with the string passed as parameters into the format function."
   ]
  },
  {
   "cell_type": "markdown",
   "metadata": {
    "colab_type": "text",
    "id": "FK65W871mv3D"
   },
   "source": [
    "Syntax : { } .format(value)\n",
    "\n",
    "Parameters : \n",
    "(value) : Can be an integer, floating point numeric constant, string, characters or even variables.\n",
    "\n",
    "Returntype : Returns a formatted string with the value passed as parameter in the placeholder position."
   ]
  },
  {
   "cell_type": "code",
   "execution_count": 0,
   "metadata": {
    "colab": {},
    "colab_type": "code",
    "id": "BQHNSm-gm6lB"
   },
   "outputs": [],
   "source": [
    "# formatting a string using a single numeric constant as a placeholder\n",
    "print (\"Hello, I am {} years old !\".format(18))  "
   ]
  },
  {
   "cell_type": "markdown",
   "metadata": {
    "colab_type": "text",
    "id": "aPu7Cpjanjwj"
   },
   "source": [
    "Using Multiple Formatters :\n",
    "Multiple pairs of curly braces can be used while formatting the string. Let’s say if another variable substitution is needed in sentence, can be done by adding a second pair of curly braces and passing a second value into the method. Python will replace the placeholders by values in order."
   ]
  },
  {
   "cell_type": "markdown",
   "metadata": {
    "colab_type": "text",
    "id": "cGzsSeLynmre"
   },
   "source": [
    "Syntax : { } { } .format(value1, value2)\n",
    "\n",
    "Parameters :\n",
    "(value1, value2) : Can be integers, floating point numeric constants, strings, characters and even variables. Only difference is, the number of values passed as parameters in format() method must be equal to the number of placeholders created in the string.\n",
    "\n",
    "Errors and Exceptions :\n",
    "IndexError : Occurs when string has an extra placeholder and we didn’t pass any value for it in the format() method. Python usually assigns the placeholders with default index in order like 0, 1, 2, 3…. to acces the values passed as parameters. So when it encounters a placeholder whose index doesn’t have any value passed inside as parameter, it throws IndexError."
   ]
  },
  {
   "cell_type": "code",
   "execution_count": 0,
   "metadata": {
    "colab": {},
    "colab_type": "code",
    "id": "983I6MdqiNRA"
   },
   "outputs": [],
   "source": [
    "# Demonstration of str.format() method  with multiple placeholders\n",
    "\n",
    "# The values passed as parameters are replaced in order of their entry \n",
    "print (\"This is {} {} {}\"\n",
    "       .format(\"one\", \"two\", \"three\"))\n"
   ]
  },
  {
   "cell_type": "markdown",
   "metadata": {
    "colab_type": "text",
    "id": "qe3PhCNgnh-O"
   },
   "source": []
  },
  {
   "cell_type": "code",
   "execution_count": 2,
   "metadata": {
    "colab": {},
    "colab_type": "code",
    "id": "KEpmcYjVmBiB"
   },
   "outputs": [
    {
     "name": "stdout",
     "output_type": "stream",
     "text": [
      "Bennett, is a centre for research\n"
     ]
    }
   ],
   "source": [
    "# Multiple placeholders can be used in format() function \n",
    "string1 = \"{}, is a {} for {}\"\n",
    "print (string1.format(\"Bennett\", \"centre\", \"research\")) \n"
   ]
  },
  {
   "cell_type": "code",
   "execution_count": 3,
   "metadata": {
    "colab": {},
    "colab_type": "code",
    "id": "3SuuG0yMn4h1"
   },
   "outputs": [
    {
     "ename": "IndexError",
     "evalue": "tuple index out of range",
     "output_type": "error",
     "traceback": [
      "\u001b[1;31m---------------------------------------------------------------------------\u001b[0m",
      "\u001b[1;31mIndexError\u001b[0m                                Traceback (most recent call last)",
      "\u001b[1;32m<ipython-input-3-1ced19226fc4>\u001b[0m in \u001b[0;36m<module>\u001b[1;34m\u001b[0m\n\u001b[0;32m      1\u001b[0m \u001b[1;31m# Multiple placeholders can be used in format() function\u001b[0m\u001b[1;33m\u001b[0m\u001b[1;33m\u001b[0m\u001b[1;33m\u001b[0m\u001b[0m\n\u001b[0;32m      2\u001b[0m \u001b[0mstring1\u001b[0m \u001b[1;33m=\u001b[0m \u001b[1;34m\"{}, is a {} for {}\"\u001b[0m\u001b[1;33m\u001b[0m\u001b[1;33m\u001b[0m\u001b[0m\n\u001b[1;32m----> 3\u001b[1;33m \u001b[0mprint\u001b[0m \u001b[1;33m(\u001b[0m\u001b[0mstring1\u001b[0m\u001b[1;33m.\u001b[0m\u001b[0mformat\u001b[0m\u001b[1;33m(\u001b[0m\u001b[1;34m\"Bennett\"\u001b[0m\u001b[1;33m,\u001b[0m \u001b[1;34m\"centre\"\u001b[0m\u001b[1;33m)\u001b[0m\u001b[1;33m)\u001b[0m\u001b[1;33m\u001b[0m\u001b[1;33m\u001b[0m\u001b[0m\n\u001b[0m",
      "\u001b[1;31mIndexError\u001b[0m: tuple index out of range"
     ]
    }
   ],
   "source": [
    "# Multiple placeholders can be used in format() function \n",
    "string1 = \"{}, is a {} for {}\"\n",
    "print (string1.format(\"Bennett\", \"centre\")) \n"
   ]
  },
  {
   "cell_type": "code",
   "execution_count": 0,
   "metadata": {
    "colab": {},
    "colab_type": "code",
    "id": "nGu0GDqZmJYE"
   },
   "outputs": [],
   "source": [
    "# different datatypes can also be used in format() function : Example 1\n",
    "print (\"Hi ! User name is {} and age is {} years\".format(\"Usha\", 10)) \n"
   ]
  },
  {
   "cell_type": "code",
   "execution_count": 0,
   "metadata": {
    "colab": {},
    "colab_type": "code",
    "id": "fxiA7BTin3JO"
   },
   "outputs": [],
   "source": [
    "# different datatypes can also be used in format() function : Example 2\n",
    "# format() function does not verifiy the datatype before printing\n",
    "print (\"Hi ! User age is {} years and language is {} \".format(\"Ushnik\", 20)) \n"
   ]
  },
  {
   "cell_type": "markdown",
   "metadata": {
    "colab_type": "text",
    "id": "JzVUIHrsosKn"
   },
   "source": [
    "Formatters with Positional and Keyword Arguments :\n",
    "When placeholders { } are empty, Python will replace the values passed through str.format() in order.\n",
    "\n",
    "The values that exist within the str.format() method are essentially tuple data types and each individual value contained in the tuple can be called by its index number, which starts with the index number 0. These index numbers can be passes into the curly braces that serve as the placeholders in the original string."
   ]
  },
  {
   "cell_type": "markdown",
   "metadata": {
    "colab_type": "text",
    "id": "Co3hkjZ4o9W3"
   },
   "source": [
    "Syntax : {0} {1}.format(positional_argument, keyword_argument)\n",
    "\n",
    "Parameters : (positional_argument, keyword_argument)\n",
    "\n",
    "Positional_argument can be integers, floating point numeric constants, strings, characters and even variables.\n",
    "Keyword_argument is essentially a variable storing some value, which is passed as parameter."
   ]
  },
  {
   "cell_type": "code",
   "execution_count": 0,
   "metadata": {
    "colab": {},
    "colab_type": "code",
    "id": "3sxHgqGBpCsQ"
   },
   "outputs": [],
   "source": [
    "print (\"Hi ! User age is {0} years and language is {1} \".format(\"Ushnik\", 20))"
   ]
  },
  {
   "cell_type": "code",
   "execution_count": 4,
   "metadata": {
    "colab": {},
    "colab_type": "code",
    "id": "Jzdfl28UpQlC"
   },
   "outputs": [
    {
     "name": "stdout",
     "output_type": "stream",
     "text": [
      "Hi ! User age is 20 years and language is Ushnik \n"
     ]
    }
   ],
   "source": [
    "print (\"Hi ! User age is {1} years and language is {0} \".format(\"Ushnik\", 20))"
   ]
  },
  {
   "cell_type": "markdown",
   "metadata": {
    "colab_type": "text",
    "id": "5eq0Ii5cVyWT"
   },
   "source": [
    "By default strings are left-justified within the field, and numbers are right-justified. We can modify this by placing an alignment code just following the colon.\n",
    "\n",
    "<   :  left-align text in the field\n",
    "^   :  center text in the field\n",
    ">   :  right-align text in the field"
   ]
  },
  {
   "cell_type": "code",
   "execution_count": 3,
   "metadata": {
    "colab": {},
    "colab_type": "code",
    "id": "tP8cgSy1ULbV"
   },
   "outputs": [
    {
     "name": "stdout",
     "output_type": "stream",
     "text": [
      "   Happiness     is within us all!\n"
     ]
    }
   ],
   "source": [
    "print(\"{0:^16} is within us {1}!\".format(\"Happiness\", \"all\"))"
   ]
  },
  {
   "cell_type": "code",
   "execution_count": 4,
   "metadata": {
    "colab": {},
    "colab_type": "code",
    "id": "cxgecfIhUdqm"
   },
   "outputs": [
    {
     "name": "stdout",
     "output_type": "stream",
     "text": [
      "Bennett          was founded in 2016!\n"
     ]
    }
   ],
   "source": [
    "print(\"{0:<16} was founded in {1}!\".format(\"Bennett\", 2016))\n"
   ]
  },
  {
   "cell_type": "code",
   "execution_count": 5,
   "metadata": {
    "colab": {},
    "colab_type": "code",
    "id": "gZKcHDZfUm9H"
   },
   "outputs": [
    {
     "name": "stdout",
     "output_type": "stream",
     "text": [
      "           Smile 201111119 times atleast!\n"
     ]
    }
   ],
   "source": [
    "print(\"{0:>16} {1:>4} times atleast!\".format(\"Smile\", 201111119))"
   ]
  },
  {
   "cell_type": "code",
   "execution_count": 6,
   "metadata": {
    "colab": {},
    "colab_type": "code",
    "id": "_o5oi7VoVZJF"
   },
   "outputs": [
    {
     "name": "stdout",
     "output_type": "stream",
     "text": [
      "           Smile      201111119 times atleast!\n"
     ]
    }
   ],
   "source": [
    "print(\"{0:>16} {1:>14} times atleast!\".format(\"Smile\", 201111119))"
   ]
  },
  {
   "cell_type": "markdown",
   "metadata": {
    "colab_type": "text",
    "id": "v-Cp5A9sWEJH"
   },
   "source": [
    "You can try for any statements using print and format() function and different amount of spaces for aligning left, right or center."
   ]
  },
  {
   "cell_type": "markdown",
   "metadata": {
    "colab_type": "text",
    "id": "fgOWpxLPae7u"
   },
   "source": [
    "Write your resume in a good format\n"
   ]
  },
  {
   "cell_type": "code",
   "execution_count": 72,
   "metadata": {
    "colab": {},
    "colab_type": "code",
    "id": "JtrIadr9a60Q"
   },
   "outputs": [
    {
     "name": "stdout",
     "output_type": "stream",
     "text": [
      "                               \u001b[1m\u001b[4mRESUME\u001b[0m                               \n",
      "\n",
      "\n",
      "\n",
      "\u001b[1mNAME\u001b[0m                                                                        \u001b[1mAGE\u001b[0m\n",
      "JAGRET SINGH JADAUN                                                          18\n",
      "\n",
      "\u001b[1mINTERESTS\u001b[0m\n",
      "*My interestes mainly lies in the field of sports , more specifically football and basketball . \n",
      "*I like cooking consider myself a beginner nothing special.\n",
      "\n",
      "\u001b[1mQUALIFICATIONS\u001b[0m\n",
      "* 12th pass with good grades , and over all good character \n",
      "* basic knowledge of coding with c and python \n",
      "* good with mathematical analysis \n",
      "* intermediate skills in music  \n",
      "\n",
      "\u001b[1mPERSONAL QUALITIES\u001b[0m\n",
      "* Good at specifically team activities \n",
      "* Good with verbal consversation\n",
      "* Can manage stress well and work under pressure \n",
      "* Good at motivating people and keeping the energy level of the team high \n",
      "* Good at leading the team \n",
      "\n",
      "\u001b[1mOBJECTIVE\u001b[0m\n",
      "  >>>> To work in a team of professionals and learn new skills and benifit others with mine and radiate positivity and keep myself as well as my team motivated to achieve more and stay hungry \n"
     ]
    }
   ],
   "source": [
    "print(\"{:^80}\".format(\"\\033[1m\\033[4mRESUME\\033[0m\"))\n",
    "print(\"\\n\\n\\n{0:>10}{1:>83}\".format(\"\\033[1mNAME\\033[0m\",\"\\033[1mAGE\\033[0m\"))\n",
    "print(\"{0:>10}{1:>60}\".format(\"JAGRET SINGH JADAUN\",18))\n",
    "print(\"\\n\\033[1mINTERESTS\\033[0m\")\n",
    "print(\"*My interestes mainly lies in the field of sports , more specifically football and basketball . \\n*I like cooking consider myself a beginner nothing special.\")\n",
    "print(\"\\n\\033[1mQUALIFICATIONS\\033[0m\")\n",
    "print(\"* 12th pass with good grades , and over all good character \\n* basic knowledge of coding with c and python \\n* good with mathematical analysis \\n* intermediate skills in music  \")\n",
    "\n",
    "print(\"\\n\\033[1mPERSONAL QUALITIES\\033[0m\")\n",
    "print(\"* Good at specifically team activities \\n* Good with verbal consversation\\n* Can manage stress well and work under pressure \\n* Good at motivating people and keeping the energy level of the team high \\n* Good at leading the team \")\n",
    "print(\"\\n\\033[1mOBJECTIVE\\033[0m\")\n",
    "print(\"  >>>> To work in a team of professionals and learn new skills and benifit others with mine and radiate positivity and keep myself as well as my team motivated to achieve more and stay hungry \")"
   ]
  },
  {
   "cell_type": "code",
   "execution_count": null,
   "metadata": {},
   "outputs": [],
   "source": []
  },
  {
   "cell_type": "code",
   "execution_count": null,
   "metadata": {},
   "outputs": [],
   "source": [
    "\n",
    "\n"
   ]
  }
 ],
 "metadata": {
  "colab": {
   "collapsed_sections": [],
   "name": "Errors in Python.ipynb",
   "provenance": [],
   "version": "0.3.2"
  },
  "kernelspec": {
   "display_name": "Python 3",
   "language": "python",
   "name": "python3"
  },
  "language_info": {
   "codemirror_mode": {
    "name": "ipython",
    "version": 3
   },
   "file_extension": ".py",
   "mimetype": "text/x-python",
   "name": "python",
   "nbconvert_exporter": "python",
   "pygments_lexer": "ipython3",
   "version": "3.7.3"
  }
 },
 "nbformat": 4,
 "nbformat_minor": 1
}
